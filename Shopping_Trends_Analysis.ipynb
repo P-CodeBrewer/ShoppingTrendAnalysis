{
 "cells": [
  {
   "cell_type": "markdown",
   "id": "c1141d08",
   "metadata": {},
   "source": [
    "# Shopping Trend Analysis"
   ]
  },
  {
   "cell_type": "markdown",
   "id": "f66adbab",
   "metadata": {},
   "source": [
    "## Dataset Introduction: \n",
    "\n",
    "### The dataset and this \"Dataset Introduction\" Section Content  is sourced from Kaggle Site - https://www.kaggle.com/datasets/iamsouravbanerjee/customer-shopping-trends-dataset\n",
    "\n",
    "### About Dataset\n",
    "\n",
    "##### Context\n",
    "\n",
    "The Customer Shopping Preferences Dataset offers valuable insights into consumer behavior and purchasing patterns. Understanding customer preferences and trends is critical for businesses to tailor their products, marketing strategies, and overall customer experience. This dataset captures a wide range of customer attributes including age, gender, purchase history, preferred payment methods, frequency of purchases, and more. Analyzing this data can help businesses make informed decisions, optimize product offerings, and enhance customer satisfaction. The dataset stands as a valuable resource for businesses aiming to align their strategies with customer needs and preferences. It's important to note that this dataset is a Synthetic Dataset Created for Beginners to learn more about Data Analysis and Machine Learning.\n",
    "\n",
    "#### Content\n",
    "\n",
    "This dataset encompasses various features related to customer shopping preferences, gathering essential information for businesses seeking to enhance their understanding of their customer base. The features include customer age, gender, purchase amount, preferred payment methods, frequency of purchases, and feedback ratings. Additionally, data on the type of items purchased, shopping frequency, preferred shopping seasons, and interactions with promotional offers is included. With a collection of 3900 records, this dataset serves as a foundation for businesses looking to apply data-driven insights for better decision-making and customer-centric strategies.\n",
    "\n",
    "#### Dataset Glossary (Column-wise)\n",
    "\n",
    "    Customer ID - Unique identifier for each customer\n",
    "    Age - Age of the customer\n",
    "    Gender - Gender of the customer (Male/Female)\n",
    "    Item Purchased - The item purchased by the customer\n",
    "    Category - Category of the item purchased\n",
    "    Purchase Amount (USD) - The amount of the purchase in USD\n",
    "    Location - Location where the purchase was made\n",
    "    Size - Size of the purchased item\n",
    "    Color - Color of the purchased item\n",
    "    Season - Season during which the purchase was made\n",
    "    Review Rating - Rating given by the customer for the purchased item\n",
    "    Subscription Status - Indicates if the customer has a subscription (Yes/No)\n",
    "    Shipping Type - Type of shipping chosen by the customer\n",
    "    Discount Applied - Indicates if a discount was applied to the purchase (Yes/No)\n",
    "    Promo Code Used - Indicates if a promo code was used for the purchase (Yes/No)\n",
    "    Previous Purchases - The total count of transactions concluded by the customer at the store, excluding the ongoing transaction\n",
    "    Payment Method - Customer's most preferred payment method\n",
    "    Frequency of Purchases - Frequency at which the customer makes purchases (e.g., Weekly, Fortnightly, Monthly)\n",
    "\n",
    "#### Acknowledgement\n",
    "\n",
    "This dataset is a synthetic creation generated using ChatGPT to simulate a realistic customer shopping experience. Its purpose is to provide a platform for beginners and data enthusiasts, allowing them to create, enjoy, practice, and learn from a dataset that mirrors real-world customer shopping behavior. The aim is to foster learning and experimentation in a simulated environment, encouraging a deeper understanding of data analysis and interpretation in the context of consumer preferences and retail scenarios.\n",
    "\n",
    "#### Cover Photo by: Freepik\n",
    "\n",
    "#### Thumbnail by: Clothing icons created by Flat Icons - Flaticon"
   ]
  },
  {
   "cell_type": "markdown",
   "id": "22fa605c",
   "metadata": {},
   "source": [
    "## Import the libraries"
   ]
  },
  {
   "cell_type": "code",
   "execution_count": 98,
   "id": "ef14b401",
   "metadata": {},
   "outputs": [],
   "source": [
    "#Pandas\n",
    "import pandas as pd\n",
    "\n",
    "#to plot\n",
    "import matplotlib.pyplot as plt\n",
    "import seaborn as sns "
   ]
  },
  {
   "cell_type": "markdown",
   "id": "831219bd",
   "metadata": {},
   "source": [
    "## Read data into a dataframe"
   ]
  },
  {
   "cell_type": "code",
   "execution_count": 99,
   "id": "f29d3357",
   "metadata": {},
   "outputs": [],
   "source": [
    "# Read data from csv into dataframe\n",
    "df = pd.read_csv(\"C:\\\\Users\\\\Pratiksha CPML\\\\Pictures\\\\Shopping-Trend-Analysis-Using-Pandas\\\\data\\\\shopping_behavior.csv\")"
   ]
  },
  {
   "cell_type": "markdown",
   "id": "b6d634ac",
   "metadata": {},
   "source": [
    "## Understand Data using basic pandas dataframe operations"
   ]
  },
  {
   "cell_type": "code",
   "execution_count": 100,
   "id": "04c22fab",
   "metadata": {},
   "outputs": [
    {
     "data": {
      "text/html": [
       "<div>\n",
       "<style scoped>\n",
       "    .dataframe tbody tr th:only-of-type {\n",
       "        vertical-align: middle;\n",
       "    }\n",
       "\n",
       "    .dataframe tbody tr th {\n",
       "        vertical-align: top;\n",
       "    }\n",
       "\n",
       "    .dataframe thead th {\n",
       "        text-align: right;\n",
       "    }\n",
       "</style>\n",
       "<table border=\"1\" class=\"dataframe\">\n",
       "  <thead>\n",
       "    <tr style=\"text-align: right;\">\n",
       "      <th></th>\n",
       "      <th>Customer ID</th>\n",
       "      <th>Age</th>\n",
       "      <th>Gender</th>\n",
       "      <th>Item Purchased</th>\n",
       "      <th>Category</th>\n",
       "      <th>Purchase Amount (USD)</th>\n",
       "      <th>Location</th>\n",
       "      <th>Size</th>\n",
       "      <th>Color</th>\n",
       "      <th>Season</th>\n",
       "      <th>Review Rating</th>\n",
       "      <th>Subscription Status</th>\n",
       "      <th>Shipping Type</th>\n",
       "      <th>Discount Applied</th>\n",
       "      <th>Promo Code Used</th>\n",
       "      <th>Previous Purchases</th>\n",
       "      <th>Payment Method</th>\n",
       "      <th>Frequency of Purchases</th>\n",
       "    </tr>\n",
       "  </thead>\n",
       "  <tbody>\n",
       "    <tr>\n",
       "      <th>0</th>\n",
       "      <td>1</td>\n",
       "      <td>55</td>\n",
       "      <td>Male</td>\n",
       "      <td>Blouse</td>\n",
       "      <td>Clothing</td>\n",
       "      <td>53</td>\n",
       "      <td>Kentucky</td>\n",
       "      <td>L</td>\n",
       "      <td>Gray</td>\n",
       "      <td>Winter</td>\n",
       "      <td>3.1</td>\n",
       "      <td>Yes</td>\n",
       "      <td>Express</td>\n",
       "      <td>Yes</td>\n",
       "      <td>Yes</td>\n",
       "      <td>14</td>\n",
       "      <td>Venmo</td>\n",
       "      <td>Fortnightly</td>\n",
       "    </tr>\n",
       "    <tr>\n",
       "      <th>1</th>\n",
       "      <td>2</td>\n",
       "      <td>19</td>\n",
       "      <td>Male</td>\n",
       "      <td>Sweater</td>\n",
       "      <td>Clothing</td>\n",
       "      <td>64</td>\n",
       "      <td>Maine</td>\n",
       "      <td>L</td>\n",
       "      <td>Maroon</td>\n",
       "      <td>Winter</td>\n",
       "      <td>3.1</td>\n",
       "      <td>Yes</td>\n",
       "      <td>Express</td>\n",
       "      <td>Yes</td>\n",
       "      <td>Yes</td>\n",
       "      <td>2</td>\n",
       "      <td>Cash</td>\n",
       "      <td>Fortnightly</td>\n",
       "    </tr>\n",
       "    <tr>\n",
       "      <th>2</th>\n",
       "      <td>3</td>\n",
       "      <td>50</td>\n",
       "      <td>Male</td>\n",
       "      <td>Jeans</td>\n",
       "      <td>Clothing</td>\n",
       "      <td>73</td>\n",
       "      <td>Massachusetts</td>\n",
       "      <td>S</td>\n",
       "      <td>Maroon</td>\n",
       "      <td>Spring</td>\n",
       "      <td>3.1</td>\n",
       "      <td>Yes</td>\n",
       "      <td>Free Shipping</td>\n",
       "      <td>Yes</td>\n",
       "      <td>Yes</td>\n",
       "      <td>23</td>\n",
       "      <td>Credit Card</td>\n",
       "      <td>Weekly</td>\n",
       "    </tr>\n",
       "    <tr>\n",
       "      <th>3</th>\n",
       "      <td>4</td>\n",
       "      <td>21</td>\n",
       "      <td>Male</td>\n",
       "      <td>Sandals</td>\n",
       "      <td>Footwear</td>\n",
       "      <td>90</td>\n",
       "      <td>Rhode Island</td>\n",
       "      <td>M</td>\n",
       "      <td>Maroon</td>\n",
       "      <td>Spring</td>\n",
       "      <td>3.5</td>\n",
       "      <td>Yes</td>\n",
       "      <td>Next Day Air</td>\n",
       "      <td>Yes</td>\n",
       "      <td>Yes</td>\n",
       "      <td>49</td>\n",
       "      <td>PayPal</td>\n",
       "      <td>Weekly</td>\n",
       "    </tr>\n",
       "    <tr>\n",
       "      <th>4</th>\n",
       "      <td>5</td>\n",
       "      <td>45</td>\n",
       "      <td>Male</td>\n",
       "      <td>Blouse</td>\n",
       "      <td>Clothing</td>\n",
       "      <td>49</td>\n",
       "      <td>Oregon</td>\n",
       "      <td>M</td>\n",
       "      <td>Turquoise</td>\n",
       "      <td>Spring</td>\n",
       "      <td>2.7</td>\n",
       "      <td>Yes</td>\n",
       "      <td>Free Shipping</td>\n",
       "      <td>Yes</td>\n",
       "      <td>Yes</td>\n",
       "      <td>31</td>\n",
       "      <td>PayPal</td>\n",
       "      <td>Annually</td>\n",
       "    </tr>\n",
       "  </tbody>\n",
       "</table>\n",
       "</div>"
      ],
      "text/plain": [
       "   Customer ID  Age Gender Item Purchased  Category  Purchase Amount (USD)  \\\n",
       "0            1   55   Male         Blouse  Clothing                     53   \n",
       "1            2   19   Male        Sweater  Clothing                     64   \n",
       "2            3   50   Male          Jeans  Clothing                     73   \n",
       "3            4   21   Male        Sandals  Footwear                     90   \n",
       "4            5   45   Male         Blouse  Clothing                     49   \n",
       "\n",
       "        Location Size      Color  Season  Review Rating Subscription Status  \\\n",
       "0       Kentucky    L       Gray  Winter            3.1                 Yes   \n",
       "1          Maine    L     Maroon  Winter            3.1                 Yes   \n",
       "2  Massachusetts    S     Maroon  Spring            3.1                 Yes   \n",
       "3   Rhode Island    M     Maroon  Spring            3.5                 Yes   \n",
       "4         Oregon    M  Turquoise  Spring            2.7                 Yes   \n",
       "\n",
       "   Shipping Type Discount Applied Promo Code Used  Previous Purchases  \\\n",
       "0        Express              Yes             Yes                  14   \n",
       "1        Express              Yes             Yes                   2   \n",
       "2  Free Shipping              Yes             Yes                  23   \n",
       "3   Next Day Air              Yes             Yes                  49   \n",
       "4  Free Shipping              Yes             Yes                  31   \n",
       "\n",
       "  Payment Method Frequency of Purchases  \n",
       "0          Venmo            Fortnightly  \n",
       "1           Cash            Fortnightly  \n",
       "2    Credit Card                 Weekly  \n",
       "3         PayPal                 Weekly  \n",
       "4         PayPal               Annually  "
      ]
     },
     "execution_count": 100,
     "metadata": {},
     "output_type": "execute_result"
    }
   ],
   "source": [
    "# View DataFrame using head()\n",
    "df.head()"
   ]
  },
  {
   "cell_type": "code",
   "execution_count": 101,
   "id": "ed00711d",
   "metadata": {},
   "outputs": [
    {
     "name": "stdout",
     "output_type": "stream",
     "text": [
      "Number of Rows: 3900\n",
      "Number of Columns: 18\n",
      "Total Number of cells in DataFrame: 70200\n"
     ]
    }
   ],
   "source": [
    "# Number of rows and columns\n",
    "print(f\"Number of Rows: {df.shape[0]}\")\n",
    "print(f\"Number of Columns: {df.shape[1]}\")\n",
    "print(f\"Total Number of cells in DataFrame: {df.size}\")"
   ]
  },
  {
   "cell_type": "code",
   "execution_count": 102,
   "id": "e5dd7f30",
   "metadata": {},
   "outputs": [
    {
     "data": {
      "text/plain": [
       "Customer ID                 int64\n",
       "Age                         int64\n",
       "Gender                     object\n",
       "Item Purchased             object\n",
       "Category                   object\n",
       "Purchase Amount (USD)       int64\n",
       "Location                   object\n",
       "Size                       object\n",
       "Color                      object\n",
       "Season                     object\n",
       "Review Rating             float64\n",
       "Subscription Status        object\n",
       "Shipping Type              object\n",
       "Discount Applied           object\n",
       "Promo Code Used            object\n",
       "Previous Purchases          int64\n",
       "Payment Method             object\n",
       "Frequency of Purchases     object\n",
       "dtype: object"
      ]
     },
     "execution_count": 102,
     "metadata": {},
     "output_type": "execute_result"
    }
   ],
   "source": [
    "#Find out the data types\n",
    "df.dtypes\n",
    "#Observation: Dataset has both integer,float and object type data"
   ]
  },
  {
   "cell_type": "code",
   "execution_count": 103,
   "id": "5b75dbc5",
   "metadata": {},
   "outputs": [
    {
     "data": {
      "text/html": [
       "<div>\n",
       "<style scoped>\n",
       "    .dataframe tbody tr th:only-of-type {\n",
       "        vertical-align: middle;\n",
       "    }\n",
       "\n",
       "    .dataframe tbody tr th {\n",
       "        vertical-align: top;\n",
       "    }\n",
       "\n",
       "    .dataframe thead th {\n",
       "        text-align: right;\n",
       "    }\n",
       "</style>\n",
       "<table border=\"1\" class=\"dataframe\">\n",
       "  <thead>\n",
       "    <tr style=\"text-align: right;\">\n",
       "      <th></th>\n",
       "      <th>Customer ID</th>\n",
       "      <th>Age</th>\n",
       "      <th>Purchase Amount (USD)</th>\n",
       "      <th>Review Rating</th>\n",
       "      <th>Previous Purchases</th>\n",
       "    </tr>\n",
       "  </thead>\n",
       "  <tbody>\n",
       "    <tr>\n",
       "      <th>count</th>\n",
       "      <td>3900.000000</td>\n",
       "      <td>3900.000000</td>\n",
       "      <td>3900.000000</td>\n",
       "      <td>3900.000000</td>\n",
       "      <td>3900.000000</td>\n",
       "    </tr>\n",
       "    <tr>\n",
       "      <th>mean</th>\n",
       "      <td>1950.500000</td>\n",
       "      <td>44.068462</td>\n",
       "      <td>59.764359</td>\n",
       "      <td>3.749949</td>\n",
       "      <td>25.351538</td>\n",
       "    </tr>\n",
       "    <tr>\n",
       "      <th>std</th>\n",
       "      <td>1125.977353</td>\n",
       "      <td>15.207589</td>\n",
       "      <td>23.685392</td>\n",
       "      <td>0.716223</td>\n",
       "      <td>14.447125</td>\n",
       "    </tr>\n",
       "    <tr>\n",
       "      <th>min</th>\n",
       "      <td>1.000000</td>\n",
       "      <td>18.000000</td>\n",
       "      <td>20.000000</td>\n",
       "      <td>2.500000</td>\n",
       "      <td>1.000000</td>\n",
       "    </tr>\n",
       "    <tr>\n",
       "      <th>25%</th>\n",
       "      <td>975.750000</td>\n",
       "      <td>31.000000</td>\n",
       "      <td>39.000000</td>\n",
       "      <td>3.100000</td>\n",
       "      <td>13.000000</td>\n",
       "    </tr>\n",
       "    <tr>\n",
       "      <th>50%</th>\n",
       "      <td>1950.500000</td>\n",
       "      <td>44.000000</td>\n",
       "      <td>60.000000</td>\n",
       "      <td>3.700000</td>\n",
       "      <td>25.000000</td>\n",
       "    </tr>\n",
       "    <tr>\n",
       "      <th>75%</th>\n",
       "      <td>2925.250000</td>\n",
       "      <td>57.000000</td>\n",
       "      <td>81.000000</td>\n",
       "      <td>4.400000</td>\n",
       "      <td>38.000000</td>\n",
       "    </tr>\n",
       "    <tr>\n",
       "      <th>max</th>\n",
       "      <td>3900.000000</td>\n",
       "      <td>70.000000</td>\n",
       "      <td>100.000000</td>\n",
       "      <td>5.000000</td>\n",
       "      <td>50.000000</td>\n",
       "    </tr>\n",
       "  </tbody>\n",
       "</table>\n",
       "</div>"
      ],
      "text/plain": [
       "       Customer ID          Age  Purchase Amount (USD)  Review Rating  \\\n",
       "count  3900.000000  3900.000000            3900.000000    3900.000000   \n",
       "mean   1950.500000    44.068462              59.764359       3.749949   \n",
       "std    1125.977353    15.207589              23.685392       0.716223   \n",
       "min       1.000000    18.000000              20.000000       2.500000   \n",
       "25%     975.750000    31.000000              39.000000       3.100000   \n",
       "50%    1950.500000    44.000000              60.000000       3.700000   \n",
       "75%    2925.250000    57.000000              81.000000       4.400000   \n",
       "max    3900.000000    70.000000             100.000000       5.000000   \n",
       "\n",
       "       Previous Purchases  \n",
       "count         3900.000000  \n",
       "mean            25.351538  \n",
       "std             14.447125  \n",
       "min              1.000000  \n",
       "25%             13.000000  \n",
       "50%             25.000000  \n",
       "75%             38.000000  \n",
       "max             50.000000  "
      ]
     },
     "execution_count": 103,
     "metadata": {},
     "output_type": "execute_result"
    }
   ],
   "source": [
    "# Get some statistical insights of data using describe()\n",
    "df.describe()"
   ]
  },
  {
   "cell_type": "code",
   "execution_count": 104,
   "id": "7afea34f",
   "metadata": {},
   "outputs": [
    {
     "data": {
      "text/plain": [
       "Customer ID               0\n",
       "Age                       0\n",
       "Gender                    0\n",
       "Item Purchased            0\n",
       "Category                  0\n",
       "Purchase Amount (USD)     0\n",
       "Location                  0\n",
       "Size                      0\n",
       "Color                     0\n",
       "Season                    0\n",
       "Review Rating             0\n",
       "Subscription Status       0\n",
       "Shipping Type             0\n",
       "Discount Applied          0\n",
       "Promo Code Used           0\n",
       "Previous Purchases        0\n",
       "Payment Method            0\n",
       "Frequency of Purchases    0\n",
       "dtype: int64"
      ]
     },
     "execution_count": 104,
     "metadata": {},
     "output_type": "execute_result"
    }
   ],
   "source": [
    "# Find Nulls values in dataset\n",
    "df.isnull() # gives boolean array whether the value is null or not\n",
    "df.isnull().sum() # gives the total count of null vales per column\n",
    "\n",
    "#Observation: The dataset does not have any null values"
   ]
  },
  {
   "cell_type": "code",
   "execution_count": 105,
   "id": "5d282a3b",
   "metadata": {},
   "outputs": [
    {
     "data": {
      "text/html": [
       "<div>\n",
       "<style scoped>\n",
       "    .dataframe tbody tr th:only-of-type {\n",
       "        vertical-align: middle;\n",
       "    }\n",
       "\n",
       "    .dataframe tbody tr th {\n",
       "        vertical-align: top;\n",
       "    }\n",
       "\n",
       "    .dataframe thead th {\n",
       "        text-align: right;\n",
       "    }\n",
       "</style>\n",
       "<table border=\"1\" class=\"dataframe\">\n",
       "  <thead>\n",
       "    <tr style=\"text-align: right;\">\n",
       "      <th></th>\n",
       "      <th>Customer ID</th>\n",
       "      <th>Age</th>\n",
       "      <th>Gender</th>\n",
       "      <th>Item Purchased</th>\n",
       "      <th>Category</th>\n",
       "      <th>Purchase Amount (USD)</th>\n",
       "      <th>Location</th>\n",
       "      <th>Size</th>\n",
       "      <th>Color</th>\n",
       "      <th>Season</th>\n",
       "      <th>Review Rating</th>\n",
       "      <th>Subscription Status</th>\n",
       "      <th>Shipping Type</th>\n",
       "      <th>Discount Applied</th>\n",
       "      <th>Promo Code Used</th>\n",
       "      <th>Previous Purchases</th>\n",
       "      <th>Payment Method</th>\n",
       "      <th>Frequency of Purchases</th>\n",
       "    </tr>\n",
       "  </thead>\n",
       "  <tbody>\n",
       "  </tbody>\n",
       "</table>\n",
       "</div>"
      ],
      "text/plain": [
       "Empty DataFrame\n",
       "Columns: [Customer ID, Age, Gender, Item Purchased, Category, Purchase Amount (USD), Location, Size, Color, Season, Review Rating, Subscription Status, Shipping Type, Discount Applied, Promo Code Used, Previous Purchases, Payment Method, Frequency of Purchases]\n",
       "Index: []"
      ]
     },
     "execution_count": 105,
     "metadata": {},
     "output_type": "execute_result"
    }
   ],
   "source": [
    "#saving duplicates to another dataframe\n",
    "df_duplicate = df[df.duplicated()]\n",
    "df_duplicate\n",
    "\n",
    "#observation: No duplicates in original dataset"
   ]
  },
  {
   "cell_type": "code",
   "execution_count": 106,
   "id": "6bdb5aea",
   "metadata": {},
   "outputs": [],
   "source": [
    "# renaming column\n",
    "df.rename(columns={\"Review Rating\":\"Reviews\", \"Shipping Type\": \"Shipping Method\", \"Purchase Amount (USD)\": \"Amount USD\"}, inplace = True)\n",
    "    "
   ]
  },
  {
   "cell_type": "markdown",
   "id": "071c0d4b",
   "metadata": {},
   "source": [
    "## Data Visualization"
   ]
  },
  {
   "cell_type": "markdown",
   "id": "412d6168",
   "metadata": {},
   "source": [
    "#### Age Distribution Analysis\n"
   ]
  },
  {
   "cell_type": "code",
   "execution_count": 107,
   "id": "70ab6aa9",
   "metadata": {},
   "outputs": [
    {
     "data": {
      "text/plain": [
       "<AxesSubplot:>"
      ]
     },
     "execution_count": 107,
     "metadata": {},
     "output_type": "execute_result"
    },
    {
     "data": {
      "image/png": "[encoded data removed]",
      "text/plain": [
       "<Figure size 1440x720 with 1 Axes>"
      ]
     },
     "metadata": {
      "needs_background": "light"
     },
     "output_type": "display_data"
    }
   ],
   "source": [
    "# Age distribution using Box plot\n",
    "\n",
    "age = pd.Series(df['Age'])\n",
    "age.plot(kind='box',figsize=(20, 10))"
   ]
  },
  {
   "cell_type": "markdown",
   "id": "08a1b4df",
   "metadata": {},
   "source": [
    "#### Observation:The box plot reveals an observed trend where the majority of shoppers are aged between 30 and 60 years."
   ]
  },
  {
   "cell_type": "markdown",
   "id": "2ff6a15d",
   "metadata": {},
   "source": [
    "#### Gender Aanlysis"
   ]
  },
  {
   "cell_type": "code",
   "execution_count": 108,
   "id": "d4ee94db",
   "metadata": {},
   "outputs": [
    {
     "data": {
      "text/plain": [
       "<AxesSubplot:title={'center':'Gender Distribution'}, xlabel='Gender', ylabel='Count'>"
      ]
     },
     "execution_count": 108,
     "metadata": {},
     "output_type": "execute_result"
    },
    {
     "data": {
      "image/png": "[encoded data removed]",
      "text/plain": [
       "<Figure size 1440x720 with 1 Axes>"
      ]
     },
     "metadata": {
      "needs_background": "light"
     },
     "output_type": "display_data"
    }
   ],
   "source": [
    "# Gender Analysis using Bar plot\n",
    "\n",
    "gender_count = df['Gender'].value_counts()\n",
    "gender_count.plot(kind = 'bar', xlabel = 'Gender', ylabel = 'Count', title = 'Gender Distribution', rot=360, figsize=(20,10))"
   ]
  },
  {
   "cell_type": "markdown",
   "id": "4bce19e5",
   "metadata": {},
   "source": [
    "#### Observation: In the shopping trend dataset, the count of men surpasses that of women"
   ]
  },
  {
   "cell_type": "markdown",
   "id": "bd30fddc",
   "metadata": {},
   "source": [
    "#### Purchase Category Analysis"
   ]
  },
  {
   "cell_type": "code",
   "execution_count": 109,
   "id": "964e86b6",
   "metadata": {},
   "outputs": [
    {
     "data": {
      "text/plain": [
       "<AxesSubplot:title={'center':'Shopping Category Distribution'}, xlabel='Category', ylabel='Count'>"
      ]
     },
     "execution_count": 109,
     "metadata": {},
     "output_type": "execute_result"
    },
    {
     "data": {
      "image/png": "[encoded data removed]",
      "text/plain": [
       "<Figure size 1440x720 with 1 Axes>"
      ]
     },
     "metadata": {
      "needs_background": "light"
     },
     "output_type": "display_data"
    }
   ],
   "source": [
    "#Purchase Category Analysis Using Colored Bar Plot \n",
    "\n",
    "category_counts = df['Category'].value_counts()\n",
    "category_counts.plot(kind='bar', figsize=(20,10), rot = 360, xlabel='Category', ylabel='Count', title= 'Shopping Category Distribution',\n",
    "                    color=['red','yellow','orange','green'])"
   ]
  },
  {
   "cell_type": "markdown",
   "id": "03ec565a",
   "metadata": {},
   "source": [
    "#### Observation:  It's evident that clothing stands out as the most popular category for purchases."
   ]
  },
  {
   "cell_type": "markdown",
   "id": "4c8fe950",
   "metadata": {},
   "source": [
    "#### Season Wise Shopping Trend Analysis"
   ]
  },
  {
   "cell_type": "code",
   "execution_count": 110,
   "id": "b4d344ca",
   "metadata": {},
   "outputs": [
    {
     "data": {
      "text/plain": [
       "<AxesSubplot:title={'center':'Season wise Shopping Trend'}, ylabel='Season'>"
      ]
     },
     "execution_count": 110,
     "metadata": {},
     "output_type": "execute_result"
    },
    {
     "data": {
      "image/png": "[encoded data removed]",
      "text/plain": [
       "<Figure size 1080x720 with 1 Axes>"
      ]
     },
     "metadata": {},
     "output_type": "display_data"
    }
   ],
   "source": [
    "# Season wise shopping analysis using pie chart \n",
    "season_count = df['Season'].value_counts()\n",
    "season_count.plot(kind='pie',autopct= \"%1.2f%%\",label='Season', title= 'Season wise Shopping Trend', figsize=(15,10))"
   ]
  },
  {
   "cell_type": "markdown",
   "id": "2c38fe43",
   "metadata": {},
   "source": [
    "#### Observation:Shopping appears to be in vogue throughout nearly every season!"
   ]
  },
  {
   "cell_type": "markdown",
   "id": "2ae75554",
   "metadata": {},
   "source": [
    "#### Shipping Analysis"
   ]
  },
  {
   "cell_type": "code",
   "execution_count": 111,
   "id": "3c0e7900",
   "metadata": {},
   "outputs": [
    {
     "data": {
      "text/plain": [
       "<AxesSubplot:title={'center':'Shipping Methods Used'}, ylabel='Value'>"
      ]
     },
     "execution_count": 111,
     "metadata": {},
     "output_type": "execute_result"
    },
    {
     "data": {
      "image/png": "[encoded data removed]",
      "text/plain": [
       "<Figure size 720x576 with 1 Axes>"
      ]
     },
     "metadata": {
      "needs_background": "light"
     },
     "output_type": "display_data"
    }
   ],
   "source": [
    "# Shipping menthod Analysis using horizontal bar plot\n",
    "shipment_count = df['Shipping Method'].value_counts()\n",
    "shipment_count.plot(kind='barh', figsize = (10,8), xlabel = 'Value', ylabel = \"Shipping Method\", title= \"Shipping Methods Used\")\n"
   ]
  },
  {
   "cell_type": "markdown",
   "id": "761a9a4d",
   "metadata": {},
   "source": [
    "#### Observation: \"Free Shipping\" emerges as the undisputed winner!"
   ]
  },
  {
   "cell_type": "markdown",
   "id": "42f0ebf1",
   "metadata": {},
   "source": [
    "#### Payment Method Analysis"
   ]
  },
  {
   "cell_type": "code",
   "execution_count": 112,
   "id": "d91ca18c",
   "metadata": {},
   "outputs": [
    {
     "data": {
      "text/plain": [
       "<AxesSubplot:title={'center':'Payment Methods Used'}, ylabel='Payment Method'>"
      ]
     },
     "execution_count": 112,
     "metadata": {},
     "output_type": "execute_result"
    },
    {
     "data": {
      "image/png": "[encoded data removed]",
      "text/plain": [
       "<Figure size 1080x720 with 1 Axes>"
      ]
     },
     "metadata": {},
     "output_type": "display_data"
    }
   ],
   "source": [
    "# Payment Method Analysis using pie chart\n",
    "\n",
    "payment_count = df['Payment Method'].value_counts()\n",
    "payment_count.plot(kind = 'pie', figsize = (15,10), autopct = \"%1.2f%%\",label = \"Payment Method\", title = 'Payment Methods Used')"
   ]
  },
  {
   "cell_type": "markdown",
   "id": "0199ba89",
   "metadata": {},
   "source": [
    "#### Observation: It's apparent that PayPal is the most commonly used payment method."
   ]
  },
  {
   "cell_type": "markdown",
   "id": "551a2240",
   "metadata": {},
   "source": [
    "#### Colors purchased in specifc season "
   ]
  },
  {
   "cell_type": "code",
   "execution_count": 113,
   "id": "f3fe26e4",
   "metadata": {},
   "outputs": [
    {
     "data": {
      "image/png": "[encoded data removed]",
      "text/plain": [
       "<Figure size 947.875x432 with 1 Axes>"
      ]
     },
     "metadata": {
      "needs_background": "light"
     },
     "output_type": "display_data"
    }
   ],
   "source": [
    "sns.catplot(data=df, x='Season', hue='Color', kind='count', height=6, aspect=2)\n",
    "plt.title('Color Distribution of Products in Each Season')\n",
    "plt.xlabel('Season')\n",
    "plt.ylabel('Count')\n",
    "plt.show()"
   ]
  },
  {
   "cell_type": "markdown",
   "id": "d758415b",
   "metadata": {},
   "source": [
    "#### Gathering some other Insights"
   ]
  },
  {
   "cell_type": "code",
   "execution_count": 114,
   "id": "6e78f176",
   "metadata": {},
   "outputs": [
    {
     "name": "stdout",
     "output_type": "stream",
     "text": [
      "Minimum Amount Spent : 20 USD\n",
      "Maximum Amount Spent:  100 USD\n",
      "Average Amount Spent: 60 USD\n",
      "Most Reviewed Item: Sneakers\n",
      "Top 5 Items Purchased:Index(['Blouse', 'Jewelry', 'Pants', 'Shirt', 'Dress'], dtype='object')\n"
     ]
    }
   ],
   "source": [
    "# Minimum and Maxium Amount Spent\n",
    "minimum_amount = df['Amount USD'].min()\n",
    "print(f\"Minimum Amount Spent : {minimum_amount} USD\")\n",
    "\n",
    "maximum_amount = df['Amount USD'].max()\n",
    "print(f\"Maximum Amount Spent:  {maximum_amount} USD\")\n",
    "\n",
    "#Average Amount spent on shopping\n",
    "average_amt = round(df['Amount USD'].mean())\n",
    "print(f\"Average Amount Spent: {average_amt} USD\")\n",
    "\n",
    "# Most reviewed Item \n",
    "most_reviewed = df.loc[df['Reviews'].max(),\"Item Purchased\"]\n",
    "print(f'Most Reviewed Item: {most_reviewed}')\n",
    "\n",
    "# Most purchased Item\n",
    "top_items_purchased = df[\"Item Purchased\"].value_counts().sort_values(ascending=False).head(5)\n",
    "print(f'Top 5 Items Purchased:{top_items_purchased.index}')\n",
    "\n"
   ]
  },
  {
   "cell_type": "markdown",
   "id": "7d4a4fc8",
   "metadata": {},
   "source": [
    "#### Category of items purchased with discount and promo code applied"
   ]
  },
  {
   "cell_type": "code",
   "execution_count": 115,
   "id": "658f3481",
   "metadata": {},
   "outputs": [
    {
     "name": "stdout",
     "output_type": "stream",
     "text": [
      "Category of items purchased with discount and promo code applied:\n",
      "Index(['Clothing', 'Accessories', 'Footwear', 'Outerwear'], dtype='object')\n"
     ]
    }
   ],
   "source": [
    "discount_promo_items = df.loc[(df['Discount Applied'] == 'Yes') & (df['Promo Code Used'] == 'Yes'), 'Category'].value_counts().index\n",
    "print(f\"Category of items purchased with discount and promo code applied:\\n{discount_promo_items}\")"
   ]
  },
  {
   "cell_type": "markdown",
   "id": "1ef5b554",
   "metadata": {},
   "source": [
    "#### Items purchased even though there was no discount "
   ]
  },
  {
   "cell_type": "code",
   "execution_count": 116,
   "id": "8b4e1945",
   "metadata": {},
   "outputs": [
    {
     "name": "stdout",
     "output_type": "stream",
     "text": [
      "Items purchased with no discount:\n",
      "Index(['Blouse', 'Socks', 'Sandals', 'Shirt', 'Jacket', 'Skirt', 'Sunglasses',\n",
      "       'Jewelry', 'Handbag', 'Dress', 'Scarf', 'Pants', 'Shorts', 'Belt',\n",
      "       'Shoes', 'T-shirt', 'Sweater', 'Hoodie', 'Coat', 'Gloves', 'Backpack',\n",
      "       'Hat', 'Boots', 'Sneakers', 'Jeans'],\n",
      "      dtype='object')\n"
     ]
    }
   ],
   "source": [
    "no_discount_item = df.loc[df['Discount Applied'] == 'No', 'Item Purchased'].value_counts().index\n",
    "print(f\"Items purchased with no discount:\\n{no_discount_item}\")"
   ]
  },
  {
   "cell_type": "markdown",
   "id": "978f34dd",
   "metadata": {},
   "source": [
    "#### Number of Customer who have subscription"
   ]
  },
  {
   "cell_type": "code",
   "execution_count": 117,
   "id": "d27fe33a",
   "metadata": {},
   "outputs": [
    {
     "name": "stdout",
     "output_type": "stream",
     "text": [
      "Number of Customer who have subscription: 1053\n"
     ]
    }
   ],
   "source": [
    "number_sub_cust = len(df.loc[df['Subscription Status'] == 'Yes'])\n",
    "print(f\"Number of Customer who have subscription: {number_sub_cust}\")"
   ]
  },
  {
   "cell_type": "markdown",
   "id": "06a8d286",
   "metadata": {},
   "source": [
    "####  Average amount spent by cutomers in each category"
   ]
  },
  {
   "cell_type": "code",
   "execution_count": 118,
   "id": "36c5d6b2",
   "metadata": {},
   "outputs": [
    {
     "name": "stdout",
     "output_type": "stream",
     "text": [
      "Average amount spent by cutomers in each category:\n",
      "Category\n",
      "Accessories    59.838710\n",
      "Clothing       60.025331\n",
      "Footwear       60.255426\n",
      "Outerwear      57.172840\n",
      "Name: Amount USD, dtype: float64\n"
     ]
    }
   ],
   "source": [
    "amount_cat = df.groupby('Category')['Amount USD'].mean()\n",
    "print(f'Average amount spent by cutomers in each category:\\n{amount_cat}')"
   ]
  },
  {
   "cell_type": "markdown",
   "id": "7f5643dd",
   "metadata": {},
   "source": [
    "#### Average amount spent by cutomers on each Item"
   ]
  },
  {
   "cell_type": "code",
   "execution_count": 119,
   "id": "fcaae724",
   "metadata": {},
   "outputs": [
    {
     "name": "stdout",
     "output_type": "stream",
     "text": [
      "Average amount spent by cutomers on each Item:\n",
      "Item Purchased\n",
      "Backpack      60.391608\n",
      "Belt          59.844720\n",
      "Blouse        60.877193\n",
      "Boots         62.625000\n",
      "Coat          57.608696\n",
      "Dress         62.168675\n",
      "Gloves        60.550000\n",
      "Handbag       57.888889\n",
      "Hat           60.876623\n",
      "Hoodie        58.059603\n",
      "Jacket        56.742331\n",
      "Jeans         60.870968\n",
      "Jewelry       58.538012\n",
      "Pants         59.005848\n",
      "Sandals       57.500000\n",
      "Scarf         60.898089\n",
      "Shirt         61.136095\n",
      "Shoes         61.600000\n",
      "Shorts        60.082803\n",
      "Skirt         59.506329\n",
      "Sneakers      59.551724\n",
      "Socks         58.188679\n",
      "Sunglasses    59.931677\n",
      "Sweater       57.695122\n",
      "T-shirt       62.911565\n",
      "Name: Amount USD, dtype: float64\n"
     ]
    }
   ],
   "source": [
    "amount_cat = df.groupby('Item Purchased')['Amount USD'].mean()\n",
    "print(f'Average amount spent by cutomers on each Item:\\n{amount_cat}')"
   ]
  },
  {
   "cell_type": "markdown",
   "id": "c7a1bca0",
   "metadata": {},
   "source": [
    "#### Top Five Common Colors preferred by Male"
   ]
  },
  {
   "cell_type": "code",
   "execution_count": 120,
   "id": "dfaba701",
   "metadata": {},
   "outputs": [
    {
     "data": {
      "text/plain": [
       "Silver    121\n",
       "Cyan      119\n",
       "Teal      119\n",
       "Olive     118\n",
       "Yellow    114\n",
       "Name: Color, dtype: int64"
      ]
     },
     "execution_count": 120,
     "metadata": {},
     "output_type": "execute_result"
    }
   ],
   "source": [
    "colors_male = df.loc[df['Gender'] == 'Male','Color'].value_counts().head()\n",
    "colors_male"
   ]
  },
  {
   "cell_type": "markdown",
   "id": "89343f28",
   "metadata": {},
   "source": [
    "#### Top Five Common Colors preferred by Female"
   ]
  },
  {
   "cell_type": "code",
   "execution_count": 121,
   "id": "7332d765",
   "metadata": {},
   "outputs": [
    {
     "data": {
      "text/plain": [
       "Silver    121\n",
       "Cyan      119\n",
       "Teal      119\n",
       "Olive     118\n",
       "Yellow    114\n",
       "Name: Color, dtype: int64"
      ]
     },
     "execution_count": 121,
     "metadata": {},
     "output_type": "execute_result"
    }
   ],
   "source": [
    "colors_female = df.loc[df['Gender'] == 'Male','Color'].value_counts().head()\n",
    "colors_female"
   ]
  },
  {
   "cell_type": "markdown",
   "id": "351ea55f",
   "metadata": {},
   "source": [
    "### Conclusion:  In conclusion, Pandas proves to be an invaluable tool for data engineers, as demonstrated in this notebook through a small example of leveraging its powerful dataframe operations for data transformation and analysis."
   ]
  }
 ],
 "metadata": {
  "kernelspec": {
   "display_name": "Python 3 (ipykernel)",
   "language": "python",
   "name": "python3"
  },
  "language_info": {
   "codemirror_mode": {
    "name": "ipython",
    "version": 3
   },
   "file_extension": ".py",
   "mimetype": "text/x-python",
   "name": "python",
   "nbconvert_exporter": "python",
   "pygments_lexer": "ipython3",
   "version": "3.9.7"
  }
 },
 "nbformat": 4,
 "nbformat_minor": 5
}
